{
  "nbformat": 4,
  "nbformat_minor": 0,
  "metadata": {
    "colab": {
      "provenance": [],
      "authorship_tag": "ABX9TyPBKqJJEsvZ8K2fYB/HdtFp",
      "include_colab_link": true
    },
    "kernelspec": {
      "name": "python3",
      "display_name": "Python 3"
    },
    "language_info": {
      "name": "python"
    }
  },
  "cells": [
    {
      "cell_type": "markdown",
      "metadata": {
        "id": "view-in-github",
        "colab_type": "text"
      },
      "source": [
        "<a href=\"https://colab.research.google.com/github/Dawaman43/3d-weather-app/blob/main/Python_datascience.ipynb\" target=\"_parent\"><img src=\"https://colab.research.google.com/assets/colab-badge.svg\" alt=\"Open In Colab\"/></a>"
      ]
    },
    {
      "cell_type": "code",
      "execution_count": null,
      "metadata": {
        "colab": {
          "base_uri": "https://localhost:8080/"
        },
        "id": "JxpHbhOvoaYY",
        "outputId": "b6fc72b4-d38c-4334-ff9d-b08f1dced8a7"
      },
      "outputs": [
        {
          "output_type": "stream",
          "name": "stdout",
          "text": [
            "git: 'https://github.com/Dawaman43/my-colab-project.git' is not a git command. See 'git --help'.\n"
          ]
        }
      ],
      "source": [
        "!git https://github.com/Dawaman43/my-colab-project.git"
      ]
    },
    {
      "cell_type": "code",
      "source": [
        "!git clone https://github.com/Dawaman43/my-colab-project.git"
      ],
      "metadata": {
        "id": "xaeWn_YDpTU_",
        "colab": {
          "base_uri": "https://localhost:8080/"
        },
        "collapsed": true,
        "outputId": "962112b3-52cb-4149-83f2-b52bc99e0315"
      },
      "execution_count": null,
      "outputs": [
        {
          "output_type": "stream",
          "name": "stdout",
          "text": [
            "Cloning into 'my-colab-project'...\n",
            "remote: Enumerating objects: 3, done.\u001b[K\n",
            "remote: Counting objects: 100% (3/3), done.\u001b[K\n",
            "remote: Total 3 (delta 0), reused 0 (delta 0), pack-reused 0 (from 0)\u001b[K\n",
            "Receiving objects: 100% (3/3), done.\n"
          ]
        }
      ]
    },
    {
      "cell_type": "markdown",
      "source": [],
      "metadata": {
        "id": "2S2VnNNDqWan"
      }
    },
    {
      "cell_type": "markdown",
      "source": [
        "# 1. what is the difference list , a dictionary and a numpy array"
      ],
      "metadata": {
        "id": "0M-tdkC_s_bg"
      }
    },
    {
      "cell_type": "markdown",
      "source": [
        "#list\n",
        "List is ordered collection of items\n",
        "List can hold any data type\n",
        "List can be indexed\n",
        "\n",
        "#dictionary\n",
        "Dictionary is unordered collection\n",
        "Stores key-value\n",
        "\n",
        "#numpy array\n",
        "Load from numpay library\n",
        "Stores same data type"
      ],
      "metadata": {
        "id": "FYc9VcQHtOlk"
      }
    },
    {
      "cell_type": "markdown",
      "source": [
        "#2. we can use list comprehension to loop through given list and get desirable outcome"
      ],
      "metadata": {
        "id": "QhLQeb1auSCW"
      }
    },
    {
      "cell_type": "code",
      "source": [
        "def sq():\n",
        "    sqr = [x**2 for x in [10, 15, 20, 25, 30] if x % 2 == 0]\n",
        "    return sqr"
      ],
      "metadata": {
        "id": "4XKR6MKQv5UA"
      },
      "execution_count": null,
      "outputs": []
    },
    {
      "cell_type": "markdown",
      "source": [
        "#3. Code output"
      ],
      "metadata": {
        "id": "petz7cQTxKuo"
      }
    },
    {
      "cell_type": "code",
      "source": [
        "[1, 2, 3, 4]"
      ],
      "metadata": {
        "id": "OVPND4qVxQ0Z"
      },
      "execution_count": null,
      "outputs": []
    },
    {
      "cell_type": "markdown",
      "source": [
        "#4. What does .shape and .describe() tell you about a pandas DataFrame? Show using an example."
      ],
      "metadata": {
        "id": "x52K_fq2yVO8"
      }
    },
    {
      "cell_type": "markdown",
      "source": [
        ".shape() - returns tuple of dataframe like the count of dataframe in rows and columns\n",
        "\n",
        ".describe() - returns summary of dataframe"
      ],
      "metadata": {
        "id": "5IRzf4BzzOdm"
      }
    },
    {
      "cell_type": "code",
      "source": [
        "import pandas as pd\n",
        "\n",
        "\n",
        "data = {\n",
        "    \"A\": [1, 2, 3, 4],\n",
        "    \"B\": [10, 20, 30, 40],\n",
        "    \"C\": [\"x\", \"y\", \"z\", \"w\"]\n",
        "}\n",
        "df = pd.DataFrame(data)\n",
        "\n",
        "\n",
        "print(\"Shape:\", df.shape)\n",
        "\n",
        "\n",
        "print(\"\\nDescribe:\\n\", df.describe())"
      ],
      "metadata": {
        "id": "x_QKFYAkzc7U"
      },
      "execution_count": null,
      "outputs": []
    },
    {
      "cell_type": "markdown",
      "source": [
        "Shape: (4, 3)\n",
        "\n",
        "Describe:\n",
        "         A     B\n",
        "count  4.0   4.0\n",
        "mean   2.5  25.0\n",
        "std    1.3  12.9\n",
        "min    1.0  10.0\n",
        "25%    1.8  17.5\n",
        "50%    2.5  25.0\n",
        "75%    3.3  32.5\n",
        "max    4.0  40.0"
      ],
      "metadata": {
        "id": "PYXsGBt7ziYP"
      }
    },
    {
      "cell_type": "markdown",
      "source": [
        "#5. Load 5 rows from given csv"
      ],
      "metadata": {
        "id": "Xyu9N-zyznJ4"
      }
    },
    {
      "cell_type": "markdown",
      "source": [
        "I see some difference the first row of all elements quoted"
      ],
      "metadata": {
        "id": "F8HXHGuq1IK9"
      }
    },
    {
      "cell_type": "code",
      "source": [
        "import pandas as pd\n",
        "df = pd.read_csv('airtel.csv')\n",
        "print(df.head(5))"
      ],
      "metadata": {
        "id": "3WlouAf32p4P"
      },
      "execution_count": null,
      "outputs": []
    },
    {
      "cell_type": "markdown",
      "source": [
        "#6. Code problem from question 5"
      ],
      "metadata": {
        "id": "Uaf6E-5r2kFo"
      }
    },
    {
      "cell_type": "code",
      "source": [
        "import pandas as pd\n",
        "\n",
        "df = pd.read_csv('airtravel.csv')\n",
        "\n",
        "\n",
        "df['Total'] = df.iloc[:, 1:].sum(axis=1)\n",
        "\n",
        "max_month = df.loc[df['Total'].idxmax()]\n",
        "\n",
        "print(\"Month with highest total passengers:\")\n",
        "print(max_month)"
      ],
      "metadata": {
        "id": "1k8Sf1Do0pGN"
      },
      "execution_count": null,
      "outputs": []
    },
    {
      "cell_type": "code",
      "source": [
        "import pandas as pd\n",
        "\n",
        "df = pd.read_csv('airtravel.csv')\n",
        "\n",
        "min_month_1958 = df.loc[df['1958'].idxmin()]\n",
        "\n",
        "print(\"Month with the lowest passengers in 1958:\")\n",
        "print(min_month_1958)"
      ],
      "metadata": {
        "id": "wkIPQ90j28bq"
      },
      "execution_count": null,
      "outputs": []
    },
    {
      "cell_type": "markdown",
      "source": [
        "#7. What does .groupby() function do in pandas? Show an example using dummy data"
      ],
      "metadata": {
        "id": "vEscD_wT3sjY"
      }
    },
    {
      "cell_type": "markdown",
      "source": [
        ".groupby() - groups rows of a dataframe based on  one or more columns and to make easy aggregate operation like sum, mean"
      ],
      "metadata": {
        "id": "qdjC0LBW30Jc"
      }
    },
    {
      "cell_type": "code",
      "source": [
        "import pandas as pd\n",
        "\n",
        "\n",
        "data = {\n",
        "    \"Team\": [\"A\", \"A\", \"B\", \"B\", \"C\"],\n",
        "    \"Score\": [10, 20, 15, 25, 30]\n",
        "}\n",
        "df = pd.DataFrame(data)\n",
        "\n",
        "\n",
        "grouped = df.groupby('Team')['Score'].sum()\n",
        "print(grouped)"
      ],
      "metadata": {
        "id": "-H3gldYG4H1K"
      },
      "execution_count": null,
      "outputs": []
    },
    {
      "cell_type": "markdown",
      "source": [
        "Output :\n",
        "Team\n",
        "A    30\n",
        "B    40\n",
        "C    30\n",
        "Name: Score, dtype: int64"
      ],
      "metadata": {
        "id": "g0VVPFWf4PiW"
      }
    },
    {
      "cell_type": "markdown",
      "source": [
        "# 8. Count missing values from each coumn in titanic dataset"
      ],
      "metadata": {
        "id": "RxJ7HClB5BTW"
      }
    },
    {
      "cell_type": "code",
      "source": [
        "import seaborn as sns\n",
        "import pandas as pd\n",
        "\n",
        "df = sns.load_dataset('titanic')\n",
        "\n",
        "missing_values = df.isnull().sum()\n",
        "print(\"Missing values in each column:\\n\", missing_values)"
      ],
      "metadata": {
        "colab": {
          "base_uri": "https://localhost:8080/"
        },
        "id": "BQ4JZqWY5axB",
        "outputId": "621dbbd1-52d3-4b54-e9e2-e4180f981e06"
      },
      "execution_count": 7,
      "outputs": [
        {
          "output_type": "stream",
          "name": "stdout",
          "text": [
            "Missing values in each column:\n",
            " survived         0\n",
            "pclass           0\n",
            "sex              0\n",
            "age            177\n",
            "sibsp            0\n",
            "parch            0\n",
            "fare             0\n",
            "embarked         2\n",
            "class            0\n",
            "who              0\n",
            "adult_male       0\n",
            "deck           688\n",
            "embark_town      2\n",
            "alive            0\n",
            "alone            0\n",
            "dtype: int64\n"
          ]
        }
      ]
    },
    {
      "cell_type": "markdown",
      "source": [
        "Missing values in each column:\n",
        "survived         0\n",
        "pclass           0\n",
        "sex              0\n",
        "age            177\n",
        "sibsp            0\n",
        "parch            0\n",
        "fare             0\n",
        "embarked         2\n",
        "class            0\n",
        "who              0\n",
        "adult_male       0\n",
        "deck           688\n",
        "embark_town      2\n",
        "alive            0\n",
        "alone            0\n",
        "dtype: int64"
      ],
      "metadata": {
        "id": "_ip1ELz05iI5"
      }
    },
    {
      "cell_type": "markdown",
      "source": [
        "#9 visualise df[\"Age\"].hist()"
      ],
      "metadata": {
        "id": "tKmKqcnI73zt"
      }
    },
    {
      "cell_type": "markdown",
      "source": [
        "1. Since .hist() method is called it generated histogram of Age dataframe so for example if we have , [2,3,7,11] it may generate [0-5], [5-10] and [10-15]"
      ],
      "metadata": {
        "id": "BONyQteT8FxG"
      }
    },
    {
      "cell_type": "markdown",
      "source": [
        "2. Sorry"
      ],
      "metadata": {
        "id": "peLTWNKW8f2m"
      }
    },
    {
      "cell_type": "markdown",
      "source": [
        "#10 What does it mean if a column has a high standard deviation?"
      ],
      "metadata": {
        "id": "lO9iiUdR8yKc"
      }
    },
    {
      "cell_type": "markdown",
      "source": [
        "Standard deviation (std. dev.) Is measurement of the spread of the dataset relative to the mean. So high standard deviation means the data is spread out the mean or the data has a lot of variability as the value spread far from the mean.\n",
        "__example__ - List: [1, 5, 10, 20, 64]\n",
        "\n",
        "Mean = (1 + 5 + 10 + 20 + 64) / 5 = 100 / 5 = 20\n",
        "\n",
        "Deviations from mean: [-19, -15, -10, 0, 44]Variance = (-19² + -15² + -10² + 0² + 44²) / 5 = (361 + 225 + 100 + 0 + 1936) / 5 = 2622 / 5 = 524.4\n",
        "\n",
        "Std. Dev. = √524.4 ≈ 22.9 (high, as values are far from the mean)."
      ],
      "metadata": {
        "id": "Ml7aCBbv9uHA"
      }
    },
    {
      "cell_type": "markdown",
      "source": [
        "#11 What are some real-world problems where missing data might affect results? Give 2 examples."
      ],
      "metadata": {
        "id": "bV5-8Hgx_IzR"
      }
    },
    {
      "cell_type": "markdown",
      "source": [
        "1. __medical research(trial)__ - if data doesn't collected correctly from patients or persons it may affect the medical process even it may cause death\n",
        "\n",
        "2. __customer servey__ - collecting information about the company from the customer may go wrong if it is not collected correctly , it may even cause bankrupt of the company"
      ],
      "metadata": {
        "id": "MkK9Y2XT_PAR"
      }
    }
  ]
}